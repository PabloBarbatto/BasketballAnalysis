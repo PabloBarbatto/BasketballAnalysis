{
 "cells": [
  {
   "cell_type": "code",
   "execution_count": 1,
   "metadata": {},
   "outputs": [
    {
     "data": {
      "text/plain": [
       "'C:\\\\Users\\\\pablo\\\\Desktop\\\\python\\\\BasketballAnalysis'"
      ]
     },
     "execution_count": 1,
     "metadata": {},
     "output_type": "execute_result"
    }
   ],
   "source": [
    "import pandas as pd\n",
    "import numpy as np\n",
    "import os\n",
    "import csv\n",
    "os.getcwd()"
   ]
  },
  {
   "cell_type": "code",
   "execution_count": 2,
   "metadata": {},
   "outputs": [],
   "source": [
    "full_df = pd.read_csv('tryouts.csv')"
   ]
  },
  {
   "cell_type": "code",
   "execution_count": 3,
   "metadata": {},
   "outputs": [],
   "source": [
    "shotcut_df = full_df.drop(full_df[full_df.total_shots < 1500].index)"
   ]
  },
  {
   "cell_type": "code",
   "execution_count": 4,
   "metadata": {},
   "outputs": [
    {
     "data": {
      "text/plain": [
       "25"
      ]
     },
     "execution_count": 4,
     "metadata": {},
     "output_type": "execute_result"
    }
   ],
   "source": [
    "shotcut_df[\"player\"].nunique()"
   ]
  },
  {
   "cell_type": "code",
   "execution_count": 5,
   "metadata": {},
   "outputs": [],
   "source": [
    "shotcut_df['playername'] = shotcut_df['player']"
   ]
  },
  {
   "cell_type": "code",
   "execution_count": 6,
   "metadata": {},
   "outputs": [
    {
     "data": {
      "text/plain": [
       "Index(['period', 'team', 'team_uid', 'home_away', 'player', 'player_uid',\n",
       "       'points', 'result', 'total_shots', 'type', 'type_uid', 'shot_distance',\n",
       "       'converted_x', 'converted_y', 'playername'],\n",
       "      dtype='object')"
      ]
     },
     "execution_count": 6,
     "metadata": {},
     "output_type": "execute_result"
    }
   ],
   "source": [
    "shotcut_df.columns"
   ]
  },
  {
   "cell_type": "code",
   "execution_count": 7,
   "metadata": {},
   "outputs": [],
   "source": [
    "shotcut_df.playername = shotcut_df.playername.str.replace(' ', '_')"
   ]
  },
  {
   "cell_type": "code",
   "execution_count": 8,
   "metadata": {},
   "outputs": [],
   "source": [
    "dfs = dict(tuple(shotcut_df.groupby('playername')))"
   ]
  },
  {
   "cell_type": "code",
   "execution_count": 9,
   "metadata": {},
   "outputs": [],
   "source": [
    "listdf = [dfs[x] for x in dfs]"
   ]
  },
  {
   "cell_type": "code",
   "execution_count": 10,
   "metadata": {},
   "outputs": [
    {
     "name": "stdout",
     "output_type": "stream",
     "text": [
      "Andrew_Wiggins\n"
     ]
    }
   ],
   "source": [
    "print(listdf[0].iloc[0][\"playername\"])"
   ]
  },
  {
   "cell_type": "code",
   "execution_count": 11,
   "metadata": {},
   "outputs": [
    {
     "name": "stderr",
     "output_type": "stream",
     "text": [
      "C:\\Users\\pablo\\Anaconda3\\lib\\site-packages\\sklearn\\utils\\validation.py:475: DataConversionWarning: Data with input dtype int64 was converted to float64 by StandardScaler.\n",
      "  warnings.warn(msg, DataConversionWarning)\n",
      "C:\\Users\\pablo\\Anaconda3\\lib\\site-packages\\ipykernel_launcher.py:27: DataConversionWarning: A column-vector y was passed when a 1d array was expected. Please change the shape of y to (n_samples, ), for example using ravel().\n"
     ]
    },
    {
     "name": "stdout",
     "output_type": "stream",
     "text": [
      "Andrew_Wiggins\n",
      "k: 7, Train/Test Score: 0.701/0.601\n",
      "Anthony_Davis\n",
      "k: 7, Train/Test Score: 0.747/0.678\n",
      "Ben_Simmons\n",
      "k: 7, Train/Test Score: 0.669/0.611\n",
      "Bradley_Beal\n",
      "k: 7, Train/Test Score: 0.689/0.603\n",
      "CJ_McCollum\n",
      "k: 7, Train/Test Score: 0.691/0.557\n",
      "Damian_Lillard\n",
      "k: 7, Train/Test Score: 0.759/0.636\n",
      "DeMar_DeRozan\n",
      "k: 7, Train/Test Score: 0.728/0.644\n",
      "Donovan_Mitchell\n",
      "k: 7, Train/Test Score: 0.713/0.580\n",
      "Giannis_Antetokounmpo\n",
      "k: 7, Train/Test Score: 0.749/0.640\n",
      "Harrison_Barnes\n",
      "k: 7, Train/Test Score: 0.716/0.563\n",
      "James_Harden\n",
      "k: 7, Train/Test Score: 0.732/0.662\n",
      "Joel_Embiid\n",
      "k: 7, Train/Test Score: 0.721/0.655\n",
      "Jrue_Holiday\n",
      "k: 7, Train/Test Score: 0.711/0.613\n",
      "Karl-Anthony_Towns\n",
      "k: 7, Train/Test Score: 0.726/0.618\n",
      "Kemba_Walker\n",
      "k: 7, Train/Test Score: 0.733/0.590\n",
      "Kevin_Durant\n",
      "k: 7, Train/Test Score: 0.738/0.649\n",
      "Khris_Middleton\n",
      "k: 7, Train/Test Score: 0.739/0.574\n",
      "Klay_Thompson\n",
      "k: 7, Train/Test Score: 0.699/0.525\n",
      "LaMarcus_Aldridge\n",
      "k: 7, Train/Test Score: 0.730/0.666\n",
      "LeBron_James\n",
      "k: 7, Train/Test Score: 0.725/0.655\n",
      "Lou_Williams\n",
      "k: 7, Train/Test Score: 0.743/0.670\n",
      "Paul_George\n",
      "k: 7, Train/Test Score: 0.731/0.602\n",
      "Russell_Westbrook\n",
      "k: 7, Train/Test Score: 0.706/0.624\n",
      "Stephen_Curry\n",
      "k: 7, Train/Test Score: 0.746/0.676\n",
      "Victor_Oladipo\n",
      "k: 7, Train/Test Score: 0.717/0.569\n"
     ]
    }
   ],
   "source": [
    "from sklearn.model_selection import train_test_split\n",
    "from sklearn.preprocessing import StandardScaler\n",
    "import matplotlib.pyplot as plt\n",
    "from sklearn.neighbors import KNeighborsClassifier\n",
    "import pickle\n",
    "i = 0\n",
    "while i < len(dfs):\n",
    "    y = listdf[i]['result']\n",
    "    X = listdf[i][['period', 'team_uid', 'home_away', 'player_uid','total_shots', 'type_uid', \n",
    "             'shot_distance','converted_x', 'converted_y']]\n",
    "#y = pd.get_dummies(y)\n",
    "\n",
    "    X_train, X_test, y_train, y_test = train_test_split(X, y, random_state=42)\n",
    "    y_trainArray = np.array(y_train).reshape(-1,1)\n",
    "\n",
    "\n",
    "    X_scaler = StandardScaler().fit(X_train)\n",
    "    y_scaler = StandardScaler().fit(y_trainArray)\n",
    "    \n",
    "    X_train_scaled = X_scaler.transform(X_train)\n",
    "    X_test_scaled = X_scaler.transform(X_test)\n",
    "    \n",
    "    train_scores = []\n",
    "    test_scores = []\n",
    "    \n",
    "    knn = KNeighborsClassifier(n_neighbors=7)\n",
    "    knn.fit(X_train_scaled, y_trainArray)\n",
    "    \n",
    "    filename = \"model_\"+str(listdf[i].iloc[0][\"playername\"])+\".sav\"\n",
    "    path = os.getcwd() + \"\\\\models\\\\\" \n",
    "    #pickle.dump (path + \"filename.p\", \"wb\")\n",
    "    pickle.dump(knn,open(path + filename,\"wb\"))\n",
    "    \n",
    "    train_score = knn.score(X_train_scaled, y_trainArray)\n",
    "    test_score = knn.score(X_test_scaled, y_test)\n",
    "    #train_scores.append(train_score)\n",
    "    #test_scores.append(test_score)\n",
    "    print(listdf[i].iloc[0][\"playername\"])\n",
    "    print(f\"k: {7}, Train/Test Score: {train_score:.3f}/{test_score:.3f}\")\n",
    "    i = i+1"
   ]
  },
  {
   "cell_type": "code",
   "execution_count": null,
   "metadata": {},
   "outputs": [],
   "source": [
    "y = listdf[i]['result']\n",
    "X = listdf[i][['period', 'team_uid', 'home_away', 'player_uid','total_shots', 'type_uid', \n",
    "             'shot_distance','converted_x', 'converted_y']]\n",
    "loaded_model = pickle.load(open(filename, 'rb'))\n",
    "result = loaded_model.score(user_X_test, user_Y_test)\n",
    "print(result)"
   ]
  },
  {
   "cell_type": "code",
   "execution_count": 12,
   "metadata": {},
   "outputs": [],
   "source": [
    "#from sklearn.model_selection import train_test_split\n",
    "\n",
    "#y = pd.get_dummies(y)\n",
    "\n",
    "#X_train, X_test, y_train, y_test = train_test_split(X, y, random_state=42)"
   ]
  },
  {
   "cell_type": "code",
   "execution_count": 23,
   "metadata": {},
   "outputs": [],
   "source": [
    "#y_trainArray = np.array(y_train).reshape(-1,1)"
   ]
  },
  {
   "cell_type": "code",
   "execution_count": 24,
   "metadata": {},
   "outputs": [
    {
     "name": "stderr",
     "output_type": "stream",
     "text": [
      "C:\\Users\\pablo\\Anaconda3\\envs\\PythonData\\lib\\site-packages\\sklearn\\utils\\validation.py:475: DataConversionWarning: Data with input dtype int64 was converted to float64 by StandardScaler.\n",
      "  warnings.warn(msg, DataConversionWarning)\n"
     ]
    }
   ],
   "source": [
    "#from sklearn.preprocessing import StandardScaler\n",
    "\n",
    "#X_scaler = StandardScaler().fit(X_train)\n",
    "#y_scaler = StandardScaler().fit(y_trainArray)"
   ]
  },
  {
   "cell_type": "code",
   "execution_count": 16,
   "metadata": {},
   "outputs": [],
   "source": [
    "#X_train_scaled = X_scaler.transform(X_train)\n",
    "#X_test_scaled = X_scaler.transform(X_test)"
   ]
  },
  {
   "cell_type": "code",
   "execution_count": 32,
   "metadata": {},
   "outputs": [
    {
     "name": "stdout",
     "output_type": "stream",
     "text": [
      "k: 7, Train/Test Score: 0.732/0.662\n"
     ]
    },
    {
     "name": "stderr",
     "output_type": "stream",
     "text": [
      "C:\\Users\\pablo\\Anaconda3\\envs\\PythonData\\lib\\site-packages\\ipykernel_launcher.py:8: DataConversionWarning: A column-vector y was passed when a 1d array was expected. Please change the shape of y to (n_samples, ), for example using ravel().\n",
      "  \n"
     ]
    }
   ],
   "source": [
    "#from sklearn.neighbors import KNeighborsClassifier\n",
    "#import matplotlib.pyplot as plt\n",
    "#train_scores = []\n",
    "#test_scores = []\n",
    "\n",
    "\n",
    "#knn = KNeighborsClassifier(n_neighbors=7)\n",
    "#knn.fit(X_train_scaled, y_trainArray)\n",
    "#train_score = knn.score(X_train_scaled, y_trainArray)\n",
    "#test_score = knn.score(X_test_scaled, y_test)\n",
    "#train_scores.append(train_score)\n",
    "#test_scores.append(test_score)\n",
    "#print(f\"k: {7}, Train/Test Score: {train_score:.3f}/{test_score:.3f}\")"
   ]
  },
  {
   "cell_type": "code",
   "execution_count": null,
   "metadata": {},
   "outputs": [],
   "source": []
  }
 ],
 "metadata": {
  "kernelspec": {
   "display_name": "Python 3",
   "language": "python",
   "name": "python3"
  },
  "language_info": {
   "codemirror_mode": {
    "name": "ipython",
    "version": 3
   },
   "file_extension": ".py",
   "mimetype": "text/x-python",
   "name": "python",
   "nbconvert_exporter": "python",
   "pygments_lexer": "ipython3",
   "version": "3.6.5"
  }
 },
 "nbformat": 4,
 "nbformat_minor": 2
}
